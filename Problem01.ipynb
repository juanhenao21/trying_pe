{
 "cells": [
  {
   "cell_type": "markdown",
   "metadata": {},
   "source": [
    "# Project Euler\n",
    "\n",
    "Juan Camilo Henao Londono"
   ]
  },
  {
   "cell_type": "markdown",
   "metadata": {},
   "source": [
    "## Multiples of 3 and 5\n",
    "\n",
    "If we list all the natural numbers below 10 that are multiples of 3 or 5, we get 3, 5, 6 and 9. The sum of these multiples is 23.\n",
    "\n",
    "Find the sum of all the multiples of 3 or 5 below 1000."
   ]
  },
  {
   "cell_type": "markdown",
   "metadata": {},
   "source": [
    "# My implementation\n",
    "\n",
    "Using a ```for loop``` and an ```if ... else``` statement, the task is just generate the numbers and then filter according the conditions."
   ]
  },
  {
   "cell_type": "code",
   "execution_count": 1,
   "metadata": {},
   "outputs": [
    {
     "name": "stdout",
     "output_type": "stream",
     "text": [
      "The sum is 233168\n"
     ]
    }
   ],
   "source": [
    "sum_1000 = 0\n",
    "\n",
    "for i in range(1000):\n",
    "    if (i%3 == 0 or i%5 == 0):\n",
    "        sum_1000 += i\n",
    "        \n",
    "print('The sum is', sum_1000)"
   ]
  },
  {
   "cell_type": "markdown",
   "metadata": {},
   "source": [
    "For a single line implementation using ```list comprehensions```"
   ]
  },
  {
   "cell_type": "code",
   "execution_count": 2,
   "metadata": {},
   "outputs": [
    {
     "name": "stdout",
     "output_type": "stream",
     "text": [
      "The sum is 233168\n"
     ]
    }
   ],
   "source": [
    "val = sum([i for i in range(1000) if (i%3 == 0 or i%5 == 0)])\n",
    "print('The sum is', val)"
   ]
  },
  {
   "cell_type": "markdown",
   "metadata": {
    "collapsed": true
   },
   "source": [
    "# Project Euler implementation\n",
    "\n",
    "To get a more efficient solution you could also calculate the sum of the numbers less than 1000 that are divisible by 3, plus the sum of the numbers less than 1000 that are divisible by 5. But as you have summed numbers divisible by 15 twice you would have to subtract the sum of the numbers divisible by 15.\n",
    "\n",
    "If  we now define a function\n",
    "\n",
    "```Python\n",
    "def SumDivisibleBy(n):\n",
    "    # Details to be filled in\n",
    "```\n",
    "\n",
    "Then the answer would be\n",
    "\n",
    "```Python\n",
    "SumDivisibleBy(3) + SumDivisibleBy(5) - SumDivisibleBy(15)\n",
    "```\n",
    "\n",
    "Let’s look at the details of our function and take as example n=3.\n",
    "We would have to add:\n",
    "\n",
    "$$3 + 6 + 9 + 12 +...+ 999 = 3 \\cdot (1 + 2 + 3 + 4 +...+ 333)$$\n",
    "\n",
    "\n",
    "For n=5 we would get\n",
    "\n",
    "$$5 + 10 + 15 +...+ 995 = 5 * (1 + 2 +...+ 199)$$\n",
    "\n",
    "Now note that ```199 = 995 / 5``` but also ```999 / 5``` rounded down to the nearest integer.\n",
    "In many programming languages there exists a separate operator for that: ```div or \\```.\n",
    "\n",
    "If we now also note that \n",
    "\n",
    "$$ 1 + 2 + 3 +...+ p = \\frac{p (p + 1)}{2}$$\n",
    "our program becomes"
   ]
  },
  {
   "cell_type": "code",
   "execution_count": 3,
   "metadata": {},
   "outputs": [
    {
     "name": "stdout",
     "output_type": "stream",
     "text": [
      "The sum is 233168\n"
     ]
    }
   ],
   "source": [
    "target = 999\n",
    "\n",
    "def SumDivisibleBy(n):\n",
    "    \n",
    "    p = target // n\n",
    "    \n",
    "    return n * (p * (p + 1)) // 2\n",
    "\n",
    "sum_ = SumDivisibleBy(3) + SumDivisibleBy(5) - SumDivisibleBy(15)\n",
    "\n",
    "print('The sum is', sum_)"
   ]
  }
 ],
 "metadata": {
  "kernelspec": {
   "display_name": "Python 3",
   "language": "python",
   "name": "python3"
  },
  "language_info": {
   "codemirror_mode": {
    "name": "ipython",
    "version": 3
   },
   "file_extension": ".py",
   "mimetype": "text/x-python",
   "name": "python",
   "nbconvert_exporter": "python",
   "pygments_lexer": "ipython3",
   "version": "3.6.5"
  }
 },
 "nbformat": 4,
 "nbformat_minor": 2
}
